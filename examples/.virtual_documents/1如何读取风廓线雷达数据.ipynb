import os
import sys
sys.path.append(os.path.abspath('../'))
from datetime import datetime,timedelta
import dateutil.parser
import dateutil.rrule
import numpy as np
import pandas as pd
import xarray as xr
import matplotlib as mpl
import matplotlib.pyplot as plt
import types
from joblib import Parallel, delayed
import metgrs
from metgrs import WindProfileRadar


metgrs.__version__




























































